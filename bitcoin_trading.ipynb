{
  "cells": [
    {
      "cell_type": "markdown",
      "metadata": {
        "id": "view-in-github",
        "colab_type": "text"
      },
      "source": [
        "<a href=\"https://colab.research.google.com/github/JulioLaz/bitcoin_trading/blob/main/bitcoin_trading.ipynb\" target=\"_parent\"><img src=\"https://colab.research.google.com/assets/colab-badge.svg\" alt=\"Open In Colab\"/></a>"
      ]
    },
    {
      "cell_type": "markdown",
      "metadata": {
        "id": "ljODwobRSl9_"
      },
      "source": [
        "# BitCoint Trading"
      ]
    },
    {
      "cell_type": "markdown",
      "source": [
        "#Usaremos yf.download():"
      ],
      "metadata": {
        "id": "LFI3R1pvs4sT"
      }
    },
    {
      "cell_type": "markdown",
      "source": [
        "Es una función de la biblioteca yfinance de Python que permite descargar los precios históricos de una acción de Yahoo Finance en un DataFrame de Pandas. La función acepta varios parámetros, incluyendo el símbolo de la acción, el período de tiempo (por ejemplo, \"1 año\"), el intervalo de tiempo (por ejemplo, \"1 día\", \"1 hora\" o \"5 minutos\"), entre otros."
      ],
      "metadata": {
        "id": "V1Zkaenzuyjc"
      }
    },
    {
      "cell_type": "markdown",
      "source": [
        "#  Indicadores técnicos utilizados en análisis: RSI y MACD,MACD Signal, tendencia, media móvil de 20 y 50 días."
      ],
      "metadata": {
        "id": "z9ZOwLJRovqi"
      }
    },
    {
      "cell_type": "markdown",
      "source": [
        "RSI y MACD son dos indicadores técnicos utilizados en análisis técnico para evaluar la fuerza y dirección de la tendencia de un activo financiero.\n",
        "\n",
        "RSI significa \"Relative Strength Index\" o \"Índice de Fuerza Relativa\", es un indicador que mide la fuerza de la tendencia del precio de un activo y determina si el activo está sobrecomprado o sobrevendido. El RSI se calcula utilizando una fórmula matemática que compara los días en que el precio subió con los días en que el precio bajó, y su resultado oscila entre 0 y 100.\n",
        "\n",
        "MACD significa \"Moving Average Convergence Divergence\" o \"Convergencia y Divergencia de Medias Móviles\", es un indicador que mide la diferencia entre dos medias móviles exponenciales de diferentes períodos de tiempo. El MACD se utiliza para identificar cambios en la dirección de la tendencia y para generar señales de compra y venta. Cuando la línea MACD cruza por encima de la línea de señal, se considera una señal de compra, mientras que cuando la línea MACD cruza por debajo de la línea de señal, se considera una señal de venta.\n",
        "\n",
        "MACD Signal es la media móvil exponencial de 9 días del MACD. Esto suaviza el MACD y genera una línea que se mueve más lentamente y que se utiliza para generar señales de compra o venta. Cuando la línea del MACD cruza por encima de la línea del MACD Signal, se considera una señal de compra, mientras que cuando cruza por debajo, se considera una señal de venta.\n",
        "\n",
        "El MACD es el indicador principal que refleja la tendencia de los precios, mientras que el MACD Signal se utiliza para confirmar y filtrar las señales de compra o venta generadas por el MACD."
      ],
      "metadata": {
        "id": "Htwx1xoEmPCM"
      }
    },
    {
      "cell_type": "markdown",
      "source": [
        "##Importacion de bibliotecas y libreias:"
      ],
      "metadata": {
        "id": "KyCf3LZYQizQ"
      }
    },
    {
      "cell_type": "code",
      "execution_count": 1,
      "metadata": {
        "colab": {
          "base_uri": "https://localhost:8080/"
        },
        "id": "1pj4H6dJS0RS",
        "outputId": "c9ed6748-3f9a-4f1d-cafd-345f389b770c"
      },
      "outputs": [
        {
          "output_type": "stream",
          "name": "stdout",
          "text": [
            "Python 3.10.11\n",
            "------\n",
            "Name: pandas\n",
            "Version: 1.5.3\n",
            "------\n",
            "Name: numpy\n",
            "Version: 1.22.4\n",
            "------\n",
            "Name: matplotlib\n",
            "Version: 3.7.1\n",
            "------\n",
            "Looking in indexes: https://pypi.org/simple, https://us-python.pkg.dev/colab-wheels/public/simple/\n",
            "Requirement already satisfied: ta in /usr/local/lib/python3.10/dist-packages (0.10.2)\n",
            "Requirement already satisfied: numpy in /usr/local/lib/python3.10/dist-packages (from ta) (1.22.4)\n",
            "Requirement already satisfied: pandas in /usr/local/lib/python3.10/dist-packages (from ta) (1.5.3)\n",
            "Requirement already satisfied: python-dateutil>=2.8.1 in /usr/local/lib/python3.10/dist-packages (from pandas->ta) (2.8.2)\n",
            "Requirement already satisfied: pytz>=2020.1 in /usr/local/lib/python3.10/dist-packages (from pandas->ta) (2022.7.1)\n",
            "Requirement already satisfied: six>=1.5 in /usr/local/lib/python3.10/dist-packages (from python-dateutil>=2.8.1->pandas->ta) (1.16.0)\n"
          ]
        }
      ],
      "source": [
        "!python -V\n",
        "print('------')\n",
        "!pip show Pandas | grep 'Name\\|Version'\n",
        "print('------')\n",
        "!pip show Numpy | grep 'Name\\|Version'\n",
        "print('------')\n",
        "!pip show Matplotlib | grep 'Name\\|Version'\n",
        "print('------')\n",
        "!pip install ta\n"
      ]
    },
    {
      "cell_type": "code",
      "execution_count": 2,
      "metadata": {
        "id": "hx5a78k4UkMD"
      },
      "outputs": [],
      "source": [
        "import yfinance as yf\n",
        "import pandas as pd\n",
        "import seaborn as sns\n",
        "import matplotlib.pyplot as plt\n",
        "import numpy as np\n",
        "from pandas._libs.lib import count_level_2d\n",
        "import requests\n",
        "from bs4 import BeautifulSoup\n",
        "import yfinance as yf\n",
        "from textblob import TextBlob\n",
        "import pandas as pd\n",
        "import time\n",
        "from IPython.display import clear_output\n",
        "import datetime\n",
        "import pytz\n",
        "import ta"
      ]
    },
    {
      "cell_type": "markdown",
      "source": [
        "# Obtener y tratar datos:"
      ],
      "metadata": {
        "id": "xkCWROo1Sy_2"
      }
    },
    {
      "cell_type": "markdown",
      "source": [
        "###1 - Obtener datos desde yahoo finance"
      ],
      "metadata": {
        "id": "ejgUoR6ErIWc"
      }
    },
    {
      "cell_type": "markdown",
      "metadata": {
        "id": "WKrJ-7CrE4Tn"
      },
      "source": [
        "### 2 - Nuevo df con columnas: DataTime(index) - Close - Volume\n"
      ]
    },
    {
      "cell_type": "markdown",
      "metadata": {
        "id": "acJ2Bjh4Gcc-"
      },
      "source": [
        "###3 - Eliminación de filas con volume=0"
      ]
    },
    {
      "cell_type": "markdown",
      "metadata": {
        "id": "wz7fYk-0PNeJ"
      },
      "source": [
        "###4 - identificar índices duplicados y trátalos dejando sólo índices únicos"
      ]
    },
    {
      "cell_type": "markdown",
      "metadata": {
        "id": "FGDoF65TRVwb"
      },
      "source": [
        "###5 - buscar valores nulos en la columna Close y trátalos:"
      ]
    },
    {
      "cell_type": "code",
      "execution_count": 3,
      "metadata": {
        "id": "x1h5G-ZAEWsv"
      },
      "outputs": [],
      "source": [
        "#función obtencion:\n",
        "    # 1 - Obtener datos desde yahoo finance:\n",
        "    # Obtener los datos del último año con intervalos de 5 minutos\n",
        "\n",
        "def get_df_bitcoin():\n",
        "    symbol = \"BTC-USD\"\n",
        "    period = \"7d\"\n",
        "    interval = \"5m\"\n",
        "    df = yf.download(symbol, period=period, interval=interval)\n",
        "    # Formatear la columna de fecha y hora:\n",
        "    df.index = df.index.strftime(\"%Y-%m-%d %H:%M\")\n",
        "    #Valores de Precio de cierre enteros:\n",
        "    df['Close'] = df['Close'].astype(int)\n",
        "\n",
        "    # Guardar los datos en un dataframe\n",
        "    df_bitcoin = pd.DataFrame(df)\n",
        "\n",
        "    # Agregar columnas para el RSI y MACD\n",
        "    df_bitcoin[\"rsi\"] = (ta.momentum.RSIIndicator(df_bitcoin[\"Close\"]).rsi()).round(0)\n",
        "    df_bitcoin[\"macd\"] = (ta.trend.MACD(df_bitcoin[\"Close\"]).macd()).round(0)\n",
        "    df_bitcoin[\"macd_signal\"] = (ta.trend.MACD(df_bitcoin[\"Close\"]).macd_signal()).round(0)\n",
        "\n",
        "\n",
        "    return df_bitcoin"
      ]
    },
    {
      "cell_type": "code",
      "source": [
        "get_df_bitcoin()"
      ],
      "metadata": {
        "colab": {
          "base_uri": "https://localhost:8080/",
          "height": 472
        },
        "id": "EAoO49o20EH-",
        "outputId": "f18a12f3-3dd7-4ad7-88ce-5382b7a61705"
      },
      "execution_count": 4,
      "outputs": [
        {
          "output_type": "stream",
          "name": "stdout",
          "text": [
            "\r[*********************100%***********************]  1 of 1 completed\n"
          ]
        },
        {
          "output_type": "execute_result",
          "data": {
            "text/plain": [
              "                          Open          High           Low  Close  \\\n",
              "Datetime                                                            \n",
              "2023-05-07 00:00  28901.623047  28916.708984  28901.623047  28916   \n",
              "2023-05-07 00:05  28922.039062  28922.039062  28897.169922  28897   \n",
              "2023-05-07 00:10  28893.931641  28902.525391  28885.779297  28892   \n",
              "2023-05-07 00:15  28895.353516  28895.353516  28886.876953  28886   \n",
              "2023-05-07 00:20  28880.578125  28911.279297  28880.578125  28881   \n",
              "...                        ...           ...           ...    ...   \n",
              "2023-05-13 18:20  26835.015625  26835.015625  26823.042969  26834   \n",
              "2023-05-13 18:25  26843.263672  26843.724609  26835.595703  26837   \n",
              "2023-05-13 18:30  26839.167969  26870.070312  26839.167969  26857   \n",
              "2023-05-13 18:35  26858.777344  26904.689453  26857.240234  26902   \n",
              "2023-05-13 18:40  26905.056641  26905.056641  26903.539062  26903   \n",
              "\n",
              "                     Adj Close    Volume   rsi  macd  macd_signal  \n",
              "Datetime                                                           \n",
              "2023-05-07 00:00  28916.708984         0   NaN   NaN          NaN  \n",
              "2023-05-07 00:05  28897.169922         0   NaN   NaN          NaN  \n",
              "2023-05-07 00:10  28892.568359         0   NaN   NaN          NaN  \n",
              "2023-05-07 00:15  28886.876953   3901440   NaN   NaN          NaN  \n",
              "2023-05-07 00:20  28881.466797   9424896   NaN   NaN          NaN  \n",
              "...                        ...       ...   ...   ...          ...  \n",
              "2023-05-13 18:20  26834.216797     89088  52.0   1.0          2.0  \n",
              "2023-05-13 18:25  26837.435547   1724416  53.0   1.0          2.0  \n",
              "2023-05-13 18:30  26857.476562   9823232  60.0   3.0          2.0  \n",
              "2023-05-13 18:35  26902.462891   2957312  70.0   8.0          4.0  \n",
              "2023-05-13 18:40  26903.539062  21514240  70.0  12.0          5.0  \n",
              "\n",
              "[1953 rows x 9 columns]"
            ],
            "text/html": [
              "\n",
              "  <div id=\"df-0cfe7ef5-e27f-4a3f-a73d-13e98da64286\">\n",
              "    <div class=\"colab-df-container\">\n",
              "      <div>\n",
              "<style scoped>\n",
              "    .dataframe tbody tr th:only-of-type {\n",
              "        vertical-align: middle;\n",
              "    }\n",
              "\n",
              "    .dataframe tbody tr th {\n",
              "        vertical-align: top;\n",
              "    }\n",
              "\n",
              "    .dataframe thead th {\n",
              "        text-align: right;\n",
              "    }\n",
              "</style>\n",
              "<table border=\"1\" class=\"dataframe\">\n",
              "  <thead>\n",
              "    <tr style=\"text-align: right;\">\n",
              "      <th></th>\n",
              "      <th>Open</th>\n",
              "      <th>High</th>\n",
              "      <th>Low</th>\n",
              "      <th>Close</th>\n",
              "      <th>Adj Close</th>\n",
              "      <th>Volume</th>\n",
              "      <th>rsi</th>\n",
              "      <th>macd</th>\n",
              "      <th>macd_signal</th>\n",
              "    </tr>\n",
              "    <tr>\n",
              "      <th>Datetime</th>\n",
              "      <th></th>\n",
              "      <th></th>\n",
              "      <th></th>\n",
              "      <th></th>\n",
              "      <th></th>\n",
              "      <th></th>\n",
              "      <th></th>\n",
              "      <th></th>\n",
              "      <th></th>\n",
              "    </tr>\n",
              "  </thead>\n",
              "  <tbody>\n",
              "    <tr>\n",
              "      <th>2023-05-07 00:00</th>\n",
              "      <td>28901.623047</td>\n",
              "      <td>28916.708984</td>\n",
              "      <td>28901.623047</td>\n",
              "      <td>28916</td>\n",
              "      <td>28916.708984</td>\n",
              "      <td>0</td>\n",
              "      <td>NaN</td>\n",
              "      <td>NaN</td>\n",
              "      <td>NaN</td>\n",
              "    </tr>\n",
              "    <tr>\n",
              "      <th>2023-05-07 00:05</th>\n",
              "      <td>28922.039062</td>\n",
              "      <td>28922.039062</td>\n",
              "      <td>28897.169922</td>\n",
              "      <td>28897</td>\n",
              "      <td>28897.169922</td>\n",
              "      <td>0</td>\n",
              "      <td>NaN</td>\n",
              "      <td>NaN</td>\n",
              "      <td>NaN</td>\n",
              "    </tr>\n",
              "    <tr>\n",
              "      <th>2023-05-07 00:10</th>\n",
              "      <td>28893.931641</td>\n",
              "      <td>28902.525391</td>\n",
              "      <td>28885.779297</td>\n",
              "      <td>28892</td>\n",
              "      <td>28892.568359</td>\n",
              "      <td>0</td>\n",
              "      <td>NaN</td>\n",
              "      <td>NaN</td>\n",
              "      <td>NaN</td>\n",
              "    </tr>\n",
              "    <tr>\n",
              "      <th>2023-05-07 00:15</th>\n",
              "      <td>28895.353516</td>\n",
              "      <td>28895.353516</td>\n",
              "      <td>28886.876953</td>\n",
              "      <td>28886</td>\n",
              "      <td>28886.876953</td>\n",
              "      <td>3901440</td>\n",
              "      <td>NaN</td>\n",
              "      <td>NaN</td>\n",
              "      <td>NaN</td>\n",
              "    </tr>\n",
              "    <tr>\n",
              "      <th>2023-05-07 00:20</th>\n",
              "      <td>28880.578125</td>\n",
              "      <td>28911.279297</td>\n",
              "      <td>28880.578125</td>\n",
              "      <td>28881</td>\n",
              "      <td>28881.466797</td>\n",
              "      <td>9424896</td>\n",
              "      <td>NaN</td>\n",
              "      <td>NaN</td>\n",
              "      <td>NaN</td>\n",
              "    </tr>\n",
              "    <tr>\n",
              "      <th>...</th>\n",
              "      <td>...</td>\n",
              "      <td>...</td>\n",
              "      <td>...</td>\n",
              "      <td>...</td>\n",
              "      <td>...</td>\n",
              "      <td>...</td>\n",
              "      <td>...</td>\n",
              "      <td>...</td>\n",
              "      <td>...</td>\n",
              "    </tr>\n",
              "    <tr>\n",
              "      <th>2023-05-13 18:20</th>\n",
              "      <td>26835.015625</td>\n",
              "      <td>26835.015625</td>\n",
              "      <td>26823.042969</td>\n",
              "      <td>26834</td>\n",
              "      <td>26834.216797</td>\n",
              "      <td>89088</td>\n",
              "      <td>52.0</td>\n",
              "      <td>1.0</td>\n",
              "      <td>2.0</td>\n",
              "    </tr>\n",
              "    <tr>\n",
              "      <th>2023-05-13 18:25</th>\n",
              "      <td>26843.263672</td>\n",
              "      <td>26843.724609</td>\n",
              "      <td>26835.595703</td>\n",
              "      <td>26837</td>\n",
              "      <td>26837.435547</td>\n",
              "      <td>1724416</td>\n",
              "      <td>53.0</td>\n",
              "      <td>1.0</td>\n",
              "      <td>2.0</td>\n",
              "    </tr>\n",
              "    <tr>\n",
              "      <th>2023-05-13 18:30</th>\n",
              "      <td>26839.167969</td>\n",
              "      <td>26870.070312</td>\n",
              "      <td>26839.167969</td>\n",
              "      <td>26857</td>\n",
              "      <td>26857.476562</td>\n",
              "      <td>9823232</td>\n",
              "      <td>60.0</td>\n",
              "      <td>3.0</td>\n",
              "      <td>2.0</td>\n",
              "    </tr>\n",
              "    <tr>\n",
              "      <th>2023-05-13 18:35</th>\n",
              "      <td>26858.777344</td>\n",
              "      <td>26904.689453</td>\n",
              "      <td>26857.240234</td>\n",
              "      <td>26902</td>\n",
              "      <td>26902.462891</td>\n",
              "      <td>2957312</td>\n",
              "      <td>70.0</td>\n",
              "      <td>8.0</td>\n",
              "      <td>4.0</td>\n",
              "    </tr>\n",
              "    <tr>\n",
              "      <th>2023-05-13 18:40</th>\n",
              "      <td>26905.056641</td>\n",
              "      <td>26905.056641</td>\n",
              "      <td>26903.539062</td>\n",
              "      <td>26903</td>\n",
              "      <td>26903.539062</td>\n",
              "      <td>21514240</td>\n",
              "      <td>70.0</td>\n",
              "      <td>12.0</td>\n",
              "      <td>5.0</td>\n",
              "    </tr>\n",
              "  </tbody>\n",
              "</table>\n",
              "<p>1953 rows × 9 columns</p>\n",
              "</div>\n",
              "      <button class=\"colab-df-convert\" onclick=\"convertToInteractive('df-0cfe7ef5-e27f-4a3f-a73d-13e98da64286')\"\n",
              "              title=\"Convert this dataframe to an interactive table.\"\n",
              "              style=\"display:none;\">\n",
              "        \n",
              "  <svg xmlns=\"http://www.w3.org/2000/svg\" height=\"24px\"viewBox=\"0 0 24 24\"\n",
              "       width=\"24px\">\n",
              "    <path d=\"M0 0h24v24H0V0z\" fill=\"none\"/>\n",
              "    <path d=\"M18.56 5.44l.94 2.06.94-2.06 2.06-.94-2.06-.94-.94-2.06-.94 2.06-2.06.94zm-11 1L8.5 8.5l.94-2.06 2.06-.94-2.06-.94L8.5 2.5l-.94 2.06-2.06.94zm10 10l.94 2.06.94-2.06 2.06-.94-2.06-.94-.94-2.06-.94 2.06-2.06.94z\"/><path d=\"M17.41 7.96l-1.37-1.37c-.4-.4-.92-.59-1.43-.59-.52 0-1.04.2-1.43.59L10.3 9.45l-7.72 7.72c-.78.78-.78 2.05 0 2.83L4 21.41c.39.39.9.59 1.41.59.51 0 1.02-.2 1.41-.59l7.78-7.78 2.81-2.81c.8-.78.8-2.07 0-2.86zM5.41 20L4 18.59l7.72-7.72 1.47 1.35L5.41 20z\"/>\n",
              "  </svg>\n",
              "      </button>\n",
              "      \n",
              "  <style>\n",
              "    .colab-df-container {\n",
              "      display:flex;\n",
              "      flex-wrap:wrap;\n",
              "      gap: 12px;\n",
              "    }\n",
              "\n",
              "    .colab-df-convert {\n",
              "      background-color: #E8F0FE;\n",
              "      border: none;\n",
              "      border-radius: 50%;\n",
              "      cursor: pointer;\n",
              "      display: none;\n",
              "      fill: #1967D2;\n",
              "      height: 32px;\n",
              "      padding: 0 0 0 0;\n",
              "      width: 32px;\n",
              "    }\n",
              "\n",
              "    .colab-df-convert:hover {\n",
              "      background-color: #E2EBFA;\n",
              "      box-shadow: 0px 1px 2px rgba(60, 64, 67, 0.3), 0px 1px 3px 1px rgba(60, 64, 67, 0.15);\n",
              "      fill: #174EA6;\n",
              "    }\n",
              "\n",
              "    [theme=dark] .colab-df-convert {\n",
              "      background-color: #3B4455;\n",
              "      fill: #D2E3FC;\n",
              "    }\n",
              "\n",
              "    [theme=dark] .colab-df-convert:hover {\n",
              "      background-color: #434B5C;\n",
              "      box-shadow: 0px 1px 3px 1px rgba(0, 0, 0, 0.15);\n",
              "      filter: drop-shadow(0px 1px 2px rgba(0, 0, 0, 0.3));\n",
              "      fill: #FFFFFF;\n",
              "    }\n",
              "  </style>\n",
              "\n",
              "      <script>\n",
              "        const buttonEl =\n",
              "          document.querySelector('#df-0cfe7ef5-e27f-4a3f-a73d-13e98da64286 button.colab-df-convert');\n",
              "        buttonEl.style.display =\n",
              "          google.colab.kernel.accessAllowed ? 'block' : 'none';\n",
              "\n",
              "        async function convertToInteractive(key) {\n",
              "          const element = document.querySelector('#df-0cfe7ef5-e27f-4a3f-a73d-13e98da64286');\n",
              "          const dataTable =\n",
              "            await google.colab.kernel.invokeFunction('convertToInteractive',\n",
              "                                                     [key], {});\n",
              "          if (!dataTable) return;\n",
              "\n",
              "          const docLinkHtml = 'Like what you see? Visit the ' +\n",
              "            '<a target=\"_blank\" href=https://colab.research.google.com/notebooks/data_table.ipynb>data table notebook</a>'\n",
              "            + ' to learn more about interactive tables.';\n",
              "          element.innerHTML = '';\n",
              "          dataTable['output_type'] = 'display_data';\n",
              "          await google.colab.output.renderOutput(dataTable, element);\n",
              "          const docLink = document.createElement('div');\n",
              "          docLink.innerHTML = docLinkHtml;\n",
              "          element.appendChild(docLink);\n",
              "        }\n",
              "      </script>\n",
              "    </div>\n",
              "  </div>\n",
              "  "
            ]
          },
          "metadata": {},
          "execution_count": 4
        }
      ]
    },
    {
      "cell_type": "code",
      "execution_count": 5,
      "metadata": {
        "id": "t4V2lHkj2kQu"
      },
      "outputs": [],
      "source": [
        "#función reacondicionamiento de datos:\n",
        "\n",
        "def get_df_bitcoin_limpio():\n",
        "\n",
        "    df_data=get_df_bitcoin()\n",
        "\n",
        "    # 2 - Crear df con columnas: DataTime - Close - Volume\n",
        "    df_bitcoin_limpio= df_data[['Close','Volume','rsi','macd','macd_signal']]\n",
        "\n",
        "    # 3 - Eliminar filas con volume=0\n",
        "    df = df_bitcoin_limpio[df_bitcoin_limpio['Volume'] != 0]\n",
        "\n",
        "    # 4 - Encontrar los índices duplicados\n",
        "    duplicados = df.index.duplicated()\n",
        "\n",
        "    # Eliminar las filas duplicadas\n",
        "    df = df[~duplicados]\n",
        "\n",
        "    # 5 - Elimina filas con Close=0\n",
        "    df_bitcoin_limpio = df[df['Close'] != 0]\n",
        "\n",
        "    return df_bitcoin_limpio"
      ]
    },
    {
      "cell_type": "code",
      "source": [
        "get_df_bitcoin_limpio()"
      ],
      "metadata": {
        "id": "GUPGjlLQJtPO",
        "colab": {
          "base_uri": "https://localhost:8080/",
          "height": 472
        },
        "outputId": "720f0ab7-226c-48e4-acad-e0058d798bd6"
      },
      "execution_count": 6,
      "outputs": [
        {
          "output_type": "stream",
          "name": "stdout",
          "text": [
            "\r[*********************100%***********************]  1 of 1 completed\n"
          ]
        },
        {
          "output_type": "execute_result",
          "data": {
            "text/plain": [
              "                  Close    Volume   rsi  macd  macd_signal\n",
              "Datetime                                                  \n",
              "2023-05-07 00:15  28886   3901440   NaN   NaN          NaN\n",
              "2023-05-07 00:20  28881   9424896   NaN   NaN          NaN\n",
              "2023-05-07 00:55  28982  26297344   NaN   NaN          NaN\n",
              "2023-05-07 01:25  29151  99313664  78.0   NaN          NaN\n",
              "2023-05-07 01:30  29082  58454016  66.0   NaN          NaN\n",
              "...                 ...       ...   ...   ...          ...\n",
              "2023-05-13 18:20  26834     89088  52.0   1.0          2.0\n",
              "2023-05-13 18:25  26837   1724416  53.0   1.0          2.0\n",
              "2023-05-13 18:30  26857   9823232  60.0   3.0          2.0\n",
              "2023-05-13 18:35  26902   2957312  70.0   8.0          4.0\n",
              "2023-05-13 18:40  26903  21514240  70.0  12.0          5.0\n",
              "\n",
              "[928 rows x 5 columns]"
            ],
            "text/html": [
              "\n",
              "  <div id=\"df-3c8d4e22-2c6b-417f-a019-0c650002fe55\">\n",
              "    <div class=\"colab-df-container\">\n",
              "      <div>\n",
              "<style scoped>\n",
              "    .dataframe tbody tr th:only-of-type {\n",
              "        vertical-align: middle;\n",
              "    }\n",
              "\n",
              "    .dataframe tbody tr th {\n",
              "        vertical-align: top;\n",
              "    }\n",
              "\n",
              "    .dataframe thead th {\n",
              "        text-align: right;\n",
              "    }\n",
              "</style>\n",
              "<table border=\"1\" class=\"dataframe\">\n",
              "  <thead>\n",
              "    <tr style=\"text-align: right;\">\n",
              "      <th></th>\n",
              "      <th>Close</th>\n",
              "      <th>Volume</th>\n",
              "      <th>rsi</th>\n",
              "      <th>macd</th>\n",
              "      <th>macd_signal</th>\n",
              "    </tr>\n",
              "    <tr>\n",
              "      <th>Datetime</th>\n",
              "      <th></th>\n",
              "      <th></th>\n",
              "      <th></th>\n",
              "      <th></th>\n",
              "      <th></th>\n",
              "    </tr>\n",
              "  </thead>\n",
              "  <tbody>\n",
              "    <tr>\n",
              "      <th>2023-05-07 00:15</th>\n",
              "      <td>28886</td>\n",
              "      <td>3901440</td>\n",
              "      <td>NaN</td>\n",
              "      <td>NaN</td>\n",
              "      <td>NaN</td>\n",
              "    </tr>\n",
              "    <tr>\n",
              "      <th>2023-05-07 00:20</th>\n",
              "      <td>28881</td>\n",
              "      <td>9424896</td>\n",
              "      <td>NaN</td>\n",
              "      <td>NaN</td>\n",
              "      <td>NaN</td>\n",
              "    </tr>\n",
              "    <tr>\n",
              "      <th>2023-05-07 00:55</th>\n",
              "      <td>28982</td>\n",
              "      <td>26297344</td>\n",
              "      <td>NaN</td>\n",
              "      <td>NaN</td>\n",
              "      <td>NaN</td>\n",
              "    </tr>\n",
              "    <tr>\n",
              "      <th>2023-05-07 01:25</th>\n",
              "      <td>29151</td>\n",
              "      <td>99313664</td>\n",
              "      <td>78.0</td>\n",
              "      <td>NaN</td>\n",
              "      <td>NaN</td>\n",
              "    </tr>\n",
              "    <tr>\n",
              "      <th>2023-05-07 01:30</th>\n",
              "      <td>29082</td>\n",
              "      <td>58454016</td>\n",
              "      <td>66.0</td>\n",
              "      <td>NaN</td>\n",
              "      <td>NaN</td>\n",
              "    </tr>\n",
              "    <tr>\n",
              "      <th>...</th>\n",
              "      <td>...</td>\n",
              "      <td>...</td>\n",
              "      <td>...</td>\n",
              "      <td>...</td>\n",
              "      <td>...</td>\n",
              "    </tr>\n",
              "    <tr>\n",
              "      <th>2023-05-13 18:20</th>\n",
              "      <td>26834</td>\n",
              "      <td>89088</td>\n",
              "      <td>52.0</td>\n",
              "      <td>1.0</td>\n",
              "      <td>2.0</td>\n",
              "    </tr>\n",
              "    <tr>\n",
              "      <th>2023-05-13 18:25</th>\n",
              "      <td>26837</td>\n",
              "      <td>1724416</td>\n",
              "      <td>53.0</td>\n",
              "      <td>1.0</td>\n",
              "      <td>2.0</td>\n",
              "    </tr>\n",
              "    <tr>\n",
              "      <th>2023-05-13 18:30</th>\n",
              "      <td>26857</td>\n",
              "      <td>9823232</td>\n",
              "      <td>60.0</td>\n",
              "      <td>3.0</td>\n",
              "      <td>2.0</td>\n",
              "    </tr>\n",
              "    <tr>\n",
              "      <th>2023-05-13 18:35</th>\n",
              "      <td>26902</td>\n",
              "      <td>2957312</td>\n",
              "      <td>70.0</td>\n",
              "      <td>8.0</td>\n",
              "      <td>4.0</td>\n",
              "    </tr>\n",
              "    <tr>\n",
              "      <th>2023-05-13 18:40</th>\n",
              "      <td>26903</td>\n",
              "      <td>21514240</td>\n",
              "      <td>70.0</td>\n",
              "      <td>12.0</td>\n",
              "      <td>5.0</td>\n",
              "    </tr>\n",
              "  </tbody>\n",
              "</table>\n",
              "<p>928 rows × 5 columns</p>\n",
              "</div>\n",
              "      <button class=\"colab-df-convert\" onclick=\"convertToInteractive('df-3c8d4e22-2c6b-417f-a019-0c650002fe55')\"\n",
              "              title=\"Convert this dataframe to an interactive table.\"\n",
              "              style=\"display:none;\">\n",
              "        \n",
              "  <svg xmlns=\"http://www.w3.org/2000/svg\" height=\"24px\"viewBox=\"0 0 24 24\"\n",
              "       width=\"24px\">\n",
              "    <path d=\"M0 0h24v24H0V0z\" fill=\"none\"/>\n",
              "    <path d=\"M18.56 5.44l.94 2.06.94-2.06 2.06-.94-2.06-.94-.94-2.06-.94 2.06-2.06.94zm-11 1L8.5 8.5l.94-2.06 2.06-.94-2.06-.94L8.5 2.5l-.94 2.06-2.06.94zm10 10l.94 2.06.94-2.06 2.06-.94-2.06-.94-.94-2.06-.94 2.06-2.06.94z\"/><path d=\"M17.41 7.96l-1.37-1.37c-.4-.4-.92-.59-1.43-.59-.52 0-1.04.2-1.43.59L10.3 9.45l-7.72 7.72c-.78.78-.78 2.05 0 2.83L4 21.41c.39.39.9.59 1.41.59.51 0 1.02-.2 1.41-.59l7.78-7.78 2.81-2.81c.8-.78.8-2.07 0-2.86zM5.41 20L4 18.59l7.72-7.72 1.47 1.35L5.41 20z\"/>\n",
              "  </svg>\n",
              "      </button>\n",
              "      \n",
              "  <style>\n",
              "    .colab-df-container {\n",
              "      display:flex;\n",
              "      flex-wrap:wrap;\n",
              "      gap: 12px;\n",
              "    }\n",
              "\n",
              "    .colab-df-convert {\n",
              "      background-color: #E8F0FE;\n",
              "      border: none;\n",
              "      border-radius: 50%;\n",
              "      cursor: pointer;\n",
              "      display: none;\n",
              "      fill: #1967D2;\n",
              "      height: 32px;\n",
              "      padding: 0 0 0 0;\n",
              "      width: 32px;\n",
              "    }\n",
              "\n",
              "    .colab-df-convert:hover {\n",
              "      background-color: #E2EBFA;\n",
              "      box-shadow: 0px 1px 2px rgba(60, 64, 67, 0.3), 0px 1px 3px 1px rgba(60, 64, 67, 0.15);\n",
              "      fill: #174EA6;\n",
              "    }\n",
              "\n",
              "    [theme=dark] .colab-df-convert {\n",
              "      background-color: #3B4455;\n",
              "      fill: #D2E3FC;\n",
              "    }\n",
              "\n",
              "    [theme=dark] .colab-df-convert:hover {\n",
              "      background-color: #434B5C;\n",
              "      box-shadow: 0px 1px 3px 1px rgba(0, 0, 0, 0.15);\n",
              "      filter: drop-shadow(0px 1px 2px rgba(0, 0, 0, 0.3));\n",
              "      fill: #FFFFFF;\n",
              "    }\n",
              "  </style>\n",
              "\n",
              "      <script>\n",
              "        const buttonEl =\n",
              "          document.querySelector('#df-3c8d4e22-2c6b-417f-a019-0c650002fe55 button.colab-df-convert');\n",
              "        buttonEl.style.display =\n",
              "          google.colab.kernel.accessAllowed ? 'block' : 'none';\n",
              "\n",
              "        async function convertToInteractive(key) {\n",
              "          const element = document.querySelector('#df-3c8d4e22-2c6b-417f-a019-0c650002fe55');\n",
              "          const dataTable =\n",
              "            await google.colab.kernel.invokeFunction('convertToInteractive',\n",
              "                                                     [key], {});\n",
              "          if (!dataTable) return;\n",
              "\n",
              "          const docLinkHtml = 'Like what you see? Visit the ' +\n",
              "            '<a target=\"_blank\" href=https://colab.research.google.com/notebooks/data_table.ipynb>data table notebook</a>'\n",
              "            + ' to learn more about interactive tables.';\n",
              "          element.innerHTML = '';\n",
              "          dataTable['output_type'] = 'display_data';\n",
              "          await google.colab.output.renderOutput(dataTable, element);\n",
              "          const docLink = document.createElement('div');\n",
              "          docLink.innerHTML = docLinkHtml;\n",
              "          element.appendChild(docLink);\n",
              "        }\n",
              "      </script>\n",
              "    </div>\n",
              "  </div>\n",
              "  "
            ]
          },
          "metadata": {},
          "execution_count": 6
        }
      ]
    },
    {
      "cell_type": "code",
      "source": [
        "get_df_bitcoin_limpio().isnull().sum()"
      ],
      "metadata": {
        "colab": {
          "base_uri": "https://localhost:8080/"
        },
        "id": "1FTro0AP7PAX",
        "outputId": "2e6a1759-206a-4504-bc2d-89b570cbc3a4"
      },
      "execution_count": 7,
      "outputs": [
        {
          "output_type": "stream",
          "name": "stdout",
          "text": [
            "\r[*********************100%***********************]  1 of 1 completed\n"
          ]
        },
        {
          "output_type": "execute_result",
          "data": {
            "text/plain": [
              "Close          0\n",
              "Volume         0\n",
              "rsi            3\n",
              "macd           6\n",
              "macd_signal    8\n",
              "dtype: int64"
            ]
          },
          "metadata": {},
          "execution_count": 7
        }
      ]
    },
    {
      "cell_type": "code",
      "source": [
        "# def df_bitcoin():\n",
        "#     df=get_df_bitcoin_limpio()\n",
        "\n",
        "#     # Agregar columnas para el RSI y MACD\n",
        "#     df[\"rsi\"] = ta.momentum.RSIIndicator(df[\"Close\"]).rsi()\n",
        "#     df[\"macd\"] = ta.trend.MACD(df[\"Close\"]).macd()\n",
        "#     return df"
      ],
      "metadata": {
        "id": "1ZAKXWC7wOPV"
      },
      "execution_count": 8,
      "outputs": []
    },
    {
      "cell_type": "markdown",
      "source": [
        "##Cálculos de valores estadísticos:"
      ],
      "metadata": {
        "id": "LUVv7nV3S3xg"
      }
    },
    {
      "cell_type": "code",
      "execution_count": 9,
      "metadata": {
        "id": "22xMkP_4EX40"
      },
      "outputs": [],
      "source": [
        "#Cálculos de valores estadísticos: df_bitcoin_limpio\n",
        "def describir():\n",
        "    df=get_df_bitcoin_limpio()\n",
        "    media_bitcoin=int(df['Close'].mean())\n",
        "    max=int(df['Close'].max())\n",
        "    min=int(df['Close'].min())\n",
        "    count=df['Close'].count()\n",
        "    # print('Cantidad:',count, 'Media:',media_bitcoin,'Min:',min, 'Max:',max)\n",
        "    return [media_bitcoin,max,min,count]"
      ]
    },
    {
      "cell_type": "code",
      "source": [
        "describir()"
      ],
      "metadata": {
        "colab": {
          "base_uri": "https://localhost:8080/"
        },
        "id": "0e8rIwfaSw4w",
        "outputId": "5a32304e-9e5f-4245-d27f-d296795c1c73"
      },
      "execution_count": 10,
      "outputs": [
        {
          "output_type": "stream",
          "name": "stdout",
          "text": [
            "\r[*********************100%***********************]  1 of 1 completed\n"
          ]
        },
        {
          "output_type": "execute_result",
          "data": {
            "text/plain": [
              "[27557, 29151, 25878, 942]"
            ]
          },
          "metadata": {},
          "execution_count": 10
        }
      ]
    },
    {
      "cell_type": "markdown",
      "metadata": {
        "id": "-Pilgo99VAxB"
      },
      "source": [
        "#identificar y eliminar los outliers"
      ]
    },
    {
      "cell_type": "markdown",
      "source": [
        "## utiliza un gráfico de boxplot:"
      ],
      "metadata": {
        "id": "GmsEH8F1TNMm"
      }
    },
    {
      "cell_type": "code",
      "execution_count": 11,
      "metadata": {
        "id": "hIhbwci3UP4k"
      },
      "outputs": [],
      "source": [
        "def boxplot_grafico():\n",
        "    df=get_df_bitcoin_limpio()\n",
        "\n",
        "    sns.set(style=\"whitegrid\", rc={\"figure.figsize\":(12,6)})\n",
        "\n",
        "    cuartiles = [0, 0.25, 0.5, 0.75, 1]\n",
        "\n",
        "    valores = df['Close'].quantile(cuartiles)\n",
        "\n",
        "    colores = ['#4c72b0', '#55a868', '#c44e52', '#8172b2']\n",
        "\n",
        "    sns.boxplot(y='Close', data=df, orient='v', palette=colores, whis=2, width=0.25)\n",
        "\n",
        "    plt.axhline(y=valores[0], linestyle='--', color='#FFC0CB')\n",
        "    plt.axhline(y=valores[1], linestyle='--', color='#FFC0CB')\n",
        "    plt.axhline(y=df['Close'].mean(), linestyle='--', color='#FFC0CB')\n",
        "\n",
        "    plt.text(-0.2, valores[0], f'Mínimo: {valores[0]:.0f}', fontsize=10, ha='center', va='bottom', color='#4682B4')\n",
        "    plt.text(-0.2, valores[0.25], f'Q1: {valores[0.25]:.0f}', fontsize=10, ha='center', va='top', color='#1f77b4')\n",
        "    plt.text(-0.2, valores[0.75], f'Q3: {valores[0.75]:.0f}', fontsize=10, ha='center', va='bottom', color='#1f77b4')\n",
        "    plt.text(-0.2, valores[1], f'Máximo: {valores[1]:.0f}', fontsize=10, ha='center', va='bottom', color='#4682B4')\n",
        "    plt.text(-0.2, df['Close'].mean(), f'Media: {df[\"Close\"].mean():.0f}', fontsize=10, ha='center', va='top', color='#1f77b4')\n",
        "\n",
        "    mediana = np.median(df['Close'])\n",
        "    plt.text(-0.2, mediana, f'Mediana: {mediana:.0f}', fontsize=10, ha='center', va='bottom', color='black')\n",
        "\n",
        "    plt.ylim(valores[0]-0.1*(valores[1]-valores[0]), valores[1]+0.1*(valores[1]-valores[0]))\n",
        "\n",
        "    plt.title('Distribución de precios de Bitcoin en dólares', fontsize=16)\n",
        "\n",
        "    return plt.show()\n"
      ]
    },
    {
      "cell_type": "markdown",
      "source": [
        "##Grafico boxplot:"
      ],
      "metadata": {
        "id": "bqi7VknSRThW"
      }
    },
    {
      "cell_type": "code",
      "source": [
        "boxplot_grafico()"
      ],
      "metadata": {
        "colab": {
          "base_uri": "https://localhost:8080/",
          "height": 541
        },
        "id": "KXNr_e22tRtN",
        "outputId": "0f9ebfa9-c0ee-459a-8d27-adc33606e9f6"
      },
      "execution_count": 12,
      "outputs": [
        {
          "output_type": "stream",
          "name": "stdout",
          "text": [
            "\r[*********************100%***********************]  1 of 1 completed\n"
          ]
        },
        {
          "output_type": "display_data",
          "data": {
            "text/plain": [
              "<Figure size 1200x600 with 1 Axes>"
            ],
            "image/png": "[encoded data removed]"
          },
          "metadata": {}
        }
      ]
    },
    {
      "cell_type": "markdown",
      "metadata": {
        "id": "iDbHY1PCzrMy"
      },
      "source": [
        "#Delimitando datos con query: entre Q1 y Q3"
      ]
    },
    {
      "cell_type": "code",
      "execution_count": 13,
      "metadata": {
        "id": "5Plg_zgWzwcg"
      },
      "outputs": [],
      "source": [
        "def between_quartiles():\n",
        "    df=get_df_bitcoin_limpio()\n",
        "    cuartiles = [0, 0.25, 0.5, 0.75, 1]\n",
        "    valores = df['Close'].quantile(cuartiles)\n",
        "    df_bitcoin_cuartiles = df.query('Close > ' + str(int(valores[0.25])) + ' & Close < ' + str(int(valores[0.75])))    \n",
        "\n",
        "    return df_bitcoin_cuartiles"
      ]
    },
    {
      "cell_type": "code",
      "source": [
        "between_quartiles()"
      ],
      "metadata": {
        "id": "g2HTD2i9LBM9",
        "colab": {
          "base_uri": "https://localhost:8080/",
          "height": 472
        },
        "outputId": "6a411baf-3c2b-44fb-fb37-601119612821"
      },
      "execution_count": 14,
      "outputs": [
        {
          "output_type": "stream",
          "name": "stdout",
          "text": [
            "\r[*********************100%***********************]  1 of 1 completed\n"
          ]
        },
        {
          "output_type": "execute_result",
          "data": {
            "text/plain": [
              "                  Close    Volume   rsi  macd  macd_signal\n",
              "Datetime                                                  \n",
              "2023-05-08 07:45  27880  27772928  19.0 -47.0        -24.0\n",
              "2023-05-08 08:05  27926  48553984  32.0 -69.0        -47.0\n",
              "2023-05-08 08:35  27935  33327104  36.0 -68.0        -64.0\n",
              "2023-05-08 08:40  27917  27760640  34.0 -70.0        -65.0\n",
              "2023-05-08 08:45  27859  36348928  30.0 -74.0        -67.0\n",
              "...                 ...       ...   ...   ...          ...\n",
              "2023-05-11 16:10  27166  35932160  46.0 -26.0        -37.0\n",
              "2023-05-11 16:50  27185  11614208  49.0 -11.0        -19.0\n",
              "2023-05-11 16:55  27134  17324032  44.0 -14.0        -18.0\n",
              "2023-05-11 17:05  27155  43118592  47.0 -17.0        -18.0\n",
              "2023-05-11 17:10  27095  38023168  41.0 -21.0        -19.0\n",
              "\n",
              "[463 rows x 5 columns]"
            ],
            "text/html": [
              "\n",
              "  <div id=\"df-f7cf86a4-00ad-439f-ac8e-3d2b670ffa26\">\n",
              "    <div class=\"colab-df-container\">\n",
              "      <div>\n",
              "<style scoped>\n",
              "    .dataframe tbody tr th:only-of-type {\n",
              "        vertical-align: middle;\n",
              "    }\n",
              "\n",
              "    .dataframe tbody tr th {\n",
              "        vertical-align: top;\n",
              "    }\n",
              "\n",
              "    .dataframe thead th {\n",
              "        text-align: right;\n",
              "    }\n",
              "</style>\n",
              "<table border=\"1\" class=\"dataframe\">\n",
              "  <thead>\n",
              "    <tr style=\"text-align: right;\">\n",
              "      <th></th>\n",
              "      <th>Close</th>\n",
              "      <th>Volume</th>\n",
              "      <th>rsi</th>\n",
              "      <th>macd</th>\n",
              "      <th>macd_signal</th>\n",
              "    </tr>\n",
              "    <tr>\n",
              "      <th>Datetime</th>\n",
              "      <th></th>\n",
              "      <th></th>\n",
              "      <th></th>\n",
              "      <th></th>\n",
              "      <th></th>\n",
              "    </tr>\n",
              "  </thead>\n",
              "  <tbody>\n",
              "    <tr>\n",
              "      <th>2023-05-08 07:45</th>\n",
              "      <td>27880</td>\n",
              "      <td>27772928</td>\n",
              "      <td>19.0</td>\n",
              "      <td>-47.0</td>\n",
              "      <td>-24.0</td>\n",
              "    </tr>\n",
              "    <tr>\n",
              "      <th>2023-05-08 08:05</th>\n",
              "      <td>27926</td>\n",
              "      <td>48553984</td>\n",
              "      <td>32.0</td>\n",
              "      <td>-69.0</td>\n",
              "      <td>-47.0</td>\n",
              "    </tr>\n",
              "    <tr>\n",
              "      <th>2023-05-08 08:35</th>\n",
              "      <td>27935</td>\n",
              "      <td>33327104</td>\n",
              "      <td>36.0</td>\n",
              "      <td>-68.0</td>\n",
              "      <td>-64.0</td>\n",
              "    </tr>\n",
              "    <tr>\n",
              "      <th>2023-05-08 08:40</th>\n",
              "      <td>27917</td>\n",
              "      <td>27760640</td>\n",
              "      <td>34.0</td>\n",
              "      <td>-70.0</td>\n",
              "      <td>-65.0</td>\n",
              "    </tr>\n",
              "    <tr>\n",
              "      <th>2023-05-08 08:45</th>\n",
              "      <td>27859</td>\n",
              "      <td>36348928</td>\n",
              "      <td>30.0</td>\n",
              "      <td>-74.0</td>\n",
              "      <td>-67.0</td>\n",
              "    </tr>\n",
              "    <tr>\n",
              "      <th>...</th>\n",
              "      <td>...</td>\n",
              "      <td>...</td>\n",
              "      <td>...</td>\n",
              "      <td>...</td>\n",
              "      <td>...</td>\n",
              "    </tr>\n",
              "    <tr>\n",
              "      <th>2023-05-11 16:10</th>\n",
              "      <td>27166</td>\n",
              "      <td>35932160</td>\n",
              "      <td>46.0</td>\n",
              "      <td>-26.0</td>\n",
              "      <td>-37.0</td>\n",
              "    </tr>\n",
              "    <tr>\n",
              "      <th>2023-05-11 16:50</th>\n",
              "      <td>27185</td>\n",
              "      <td>11614208</td>\n",
              "      <td>49.0</td>\n",
              "      <td>-11.0</td>\n",
              "      <td>-19.0</td>\n",
              "    </tr>\n",
              "    <tr>\n",
              "      <th>2023-05-11 16:55</th>\n",
              "      <td>27134</td>\n",
              "      <td>17324032</td>\n",
              "      <td>44.0</td>\n",
              "      <td>-14.0</td>\n",
              "      <td>-18.0</td>\n",
              "    </tr>\n",
              "    <tr>\n",
              "      <th>2023-05-11 17:05</th>\n",
              "      <td>27155</td>\n",
              "      <td>43118592</td>\n",
              "      <td>47.0</td>\n",
              "      <td>-17.0</td>\n",
              "      <td>-18.0</td>\n",
              "    </tr>\n",
              "    <tr>\n",
              "      <th>2023-05-11 17:10</th>\n",
              "      <td>27095</td>\n",
              "      <td>38023168</td>\n",
              "      <td>41.0</td>\n",
              "      <td>-21.0</td>\n",
              "      <td>-19.0</td>\n",
              "    </tr>\n",
              "  </tbody>\n",
              "</table>\n",
              "<p>463 rows × 5 columns</p>\n",
              "</div>\n",
              "      <button class=\"colab-df-convert\" onclick=\"convertToInteractive('df-f7cf86a4-00ad-439f-ac8e-3d2b670ffa26')\"\n",
              "              title=\"Convert this dataframe to an interactive table.\"\n",
              "              style=\"display:none;\">\n",
              "        \n",
              "  <svg xmlns=\"http://www.w3.org/2000/svg\" height=\"24px\"viewBox=\"0 0 24 24\"\n",
              "       width=\"24px\">\n",
              "    <path d=\"M0 0h24v24H0V0z\" fill=\"none\"/>\n",
              "    <path d=\"M18.56 5.44l.94 2.06.94-2.06 2.06-.94-2.06-.94-.94-2.06-.94 2.06-2.06.94zm-11 1L8.5 8.5l.94-2.06 2.06-.94-2.06-.94L8.5 2.5l-.94 2.06-2.06.94zm10 10l.94 2.06.94-2.06 2.06-.94-2.06-.94-.94-2.06-.94 2.06-2.06.94z\"/><path d=\"M17.41 7.96l-1.37-1.37c-.4-.4-.92-.59-1.43-.59-.52 0-1.04.2-1.43.59L10.3 9.45l-7.72 7.72c-.78.78-.78 2.05 0 2.83L4 21.41c.39.39.9.59 1.41.59.51 0 1.02-.2 1.41-.59l7.78-7.78 2.81-2.81c.8-.78.8-2.07 0-2.86zM5.41 20L4 18.59l7.72-7.72 1.47 1.35L5.41 20z\"/>\n",
              "  </svg>\n",
              "      </button>\n",
              "      \n",
              "  <style>\n",
              "    .colab-df-container {\n",
              "      display:flex;\n",
              "      flex-wrap:wrap;\n",
              "      gap: 12px;\n",
              "    }\n",
              "\n",
              "    .colab-df-convert {\n",
              "      background-color: #E8F0FE;\n",
              "      border: none;\n",
              "      border-radius: 50%;\n",
              "      cursor: pointer;\n",
              "      display: none;\n",
              "      fill: #1967D2;\n",
              "      height: 32px;\n",
              "      padding: 0 0 0 0;\n",
              "      width: 32px;\n",
              "    }\n",
              "\n",
              "    .colab-df-convert:hover {\n",
              "      background-color: #E2EBFA;\n",
              "      box-shadow: 0px 1px 2px rgba(60, 64, 67, 0.3), 0px 1px 3px 1px rgba(60, 64, 67, 0.15);\n",
              "      fill: #174EA6;\n",
              "    }\n",
              "\n",
              "    [theme=dark] .colab-df-convert {\n",
              "      background-color: #3B4455;\n",
              "      fill: #D2E3FC;\n",
              "    }\n",
              "\n",
              "    [theme=dark] .colab-df-convert:hover {\n",
              "      background-color: #434B5C;\n",
              "      box-shadow: 0px 1px 3px 1px rgba(0, 0, 0, 0.15);\n",
              "      filter: drop-shadow(0px 1px 2px rgba(0, 0, 0, 0.3));\n",
              "      fill: #FFFFFF;\n",
              "    }\n",
              "  </style>\n",
              "\n",
              "      <script>\n",
              "        const buttonEl =\n",
              "          document.querySelector('#df-f7cf86a4-00ad-439f-ac8e-3d2b670ffa26 button.colab-df-convert');\n",
              "        buttonEl.style.display =\n",
              "          google.colab.kernel.accessAllowed ? 'block' : 'none';\n",
              "\n",
              "        async function convertToInteractive(key) {\n",
              "          const element = document.querySelector('#df-f7cf86a4-00ad-439f-ac8e-3d2b670ffa26');\n",
              "          const dataTable =\n",
              "            await google.colab.kernel.invokeFunction('convertToInteractive',\n",
              "                                                     [key], {});\n",
              "          if (!dataTable) return;\n",
              "\n",
              "          const docLinkHtml = 'Like what you see? Visit the ' +\n",
              "            '<a target=\"_blank\" href=https://colab.research.google.com/notebooks/data_table.ipynb>data table notebook</a>'\n",
              "            + ' to learn more about interactive tables.';\n",
              "          element.innerHTML = '';\n",
              "          dataTable['output_type'] = 'display_data';\n",
              "          await google.colab.output.renderOutput(dataTable, element);\n",
              "          const docLink = document.createElement('div');\n",
              "          docLink.innerHTML = docLinkHtml;\n",
              "          element.appendChild(docLink);\n",
              "        }\n",
              "      </script>\n",
              "    </div>\n",
              "  </div>\n",
              "  "
            ]
          },
          "metadata": {},
          "execution_count": 14
        }
      ]
    },
    {
      "cell_type": "markdown",
      "metadata": {
        "id": "KgRytUofWCOK"
      },
      "source": [
        "##Nuevo BOXPLOT desde Q1 a Q3"
      ]
    },
    {
      "cell_type": "code",
      "execution_count": 15,
      "metadata": {
        "id": "fHVxWS7RWONs"
      },
      "outputs": [],
      "source": [
        "def new_boxplot():\n",
        "    df_new= between_quartiles()\n",
        "\n",
        "    sns.set(style=\"whitegrid\", rc={\"figure.figsize\":(12,6)})\n",
        "\n",
        "    cuartiles = [0, 0.25, 0.5, 0.75, 1]\n",
        "\n",
        "    valores = df_new['Close'].quantile(cuartiles)\n",
        "\n",
        "    colores = ['#4c72b0', '#55a868', '#c44e52', '#8172b2']\n",
        "\n",
        "    sns.boxplot(y='Close', data=df_new, orient='v', palette=colores, whis=2, width=0.25)\n",
        "\n",
        "    plt.axhline(y=valores[0], linestyle='--', color='#FFC0CB')\n",
        "    plt.axhline(y=valores[1], linestyle='--', color='#FFC0CB')\n",
        "    plt.axhline(y=df_new['Close'].mean(), linestyle='--', color='#FFC0CB')\n",
        "\n",
        "    plt.text(-0.2, valores[0], f'Mínimo: {valores[0]:.0f}', fontsize=10, ha='center', va='bottom', color='#4682B4')\n",
        "    plt.text(-0.2, valores[0.25], f'Q1: {valores[0.25]:.0f}', fontsize=10, ha='center', va='top', color='#1f77b4')\n",
        "    plt.text(-0.2, valores[0.75], f'Q3: {valores[0.75]:.0f}', fontsize=10, ha='center', va='bottom', color='#1f77b4')\n",
        "    plt.text(-0.2, valores[1], f'Máximo: {valores[1]:.0f}', fontsize=10, ha='center', va='bottom', color='#4682B4')\n",
        "    plt.text(-0.2, df_new['Close'].mean(), f'Media: {df_new[\"Close\"].mean():.0f}', fontsize=10, ha='center', va='top', color='#1f77b4')\n",
        "\n",
        "    mediana = np.median(df_new['Close'])\n",
        "    plt.text(0, mediana, f'Mediana: {mediana:.0f}', fontsize=10, ha='center', va='bottom', color='black')\n",
        "\n",
        "    plt.ylim(valores[0]-0.1*(valores[1]-valores[0]), valores[1]+0.1*(valores[1]-valores[0]))\n",
        "\n",
        "    plt.title('Distribución de precios de Bitcoin en dólares', fontsize=16)\n",
        "\n",
        "    return  plt.show();\n"
      ]
    },
    {
      "cell_type": "code",
      "source": [
        "new_boxplot()"
      ],
      "metadata": {
        "colab": {
          "base_uri": "https://localhost:8080/",
          "height": 541
        },
        "id": "utTee43yKu8Y",
        "outputId": "cd8b4c69-b6c7-4596-c8be-a6142d9f851a"
      },
      "execution_count": 16,
      "outputs": [
        {
          "output_type": "stream",
          "name": "stdout",
          "text": [
            "\r[*********************100%***********************]  1 of 1 completed\n"
          ]
        },
        {
          "output_type": "display_data",
          "data": {
            "text/plain": [
              "<Figure size 1200x600 with 1 Axes>"
            ],
            "image/png": "[encoded data removed]"
          },
          "metadata": {}
        }
      ]
    },
    {
      "cell_type": "markdown",
      "metadata": {
        "id": "4Rc8BtwUzMQA"
      },
      "source": [
        "###Guardar en drive el df_bitcoin"
      ]
    },
    {
      "cell_type": "code",
      "execution_count": 17,
      "metadata": {
        "id": "i3aKxiEKzWKC"
      },
      "outputs": [],
      "source": [
        "# df_new= get_df_bitcoin()\n",
        "# df_new.to_csv('/content/drive/MyDrive/BitCoin/bitcoin.csv',sep=';',index='False')"
      ]
    },
    {
      "cell_type": "markdown",
      "metadata": {
        "id": "S8lDte_RcBXS"
      },
      "source": [
        "#Extraer Tendencias:"
      ]
    },
    {
      "cell_type": "code",
      "execution_count": 18,
      "metadata": {
        "id": "XavcEvhvU1f8"
      },
      "outputs": [],
      "source": [
        "def extraer_tendencias():\n",
        "    global precio_actual, tendencia\n",
        "    \n",
        "    # Hacer la petición GET a la página web\n",
        "    page = requests.get('https://coinmarketcap.com/')\n",
        "    \n",
        "    # Crear el objeto BeautifulSoup a partir del HTML de la página web\n",
        "    soup = BeautifulSoup(page.content, 'html.parser')\n",
        "    \n",
        "    # Encontrar el precio actual del Bitcoin\n",
        "    precio = soup.find('a', {'href': '/currencies/bitcoin/markets/'}).find('span').text.strip().replace('$', '').replace(',', '')\n",
        "\n",
        "    # Convertir el precio a un número en coma flotante\n",
        "    precio_actual = float(precio)\n",
        "\n",
        "    # Análisis de tendencia a partir del icono up o down\n",
        "    span_element = soup.find('span', {'class': ['icon-Caret-up', 'icon-Caret-down']})\n",
        "    if 'icon-Caret-up' in span_element['class']:\n",
        "        tendencia = 'Alta'\n",
        "    else:\n",
        "        tendencia = 'Baja'\n",
        "    \n",
        "    # Encontrar la variación del precio\n",
        "    porcentaje = soup.find('span', {'class': 'sc-97d6d2ca-0 bQjSqS'}).text.strip().replace('$', '').replace(',', '')\n",
        "\n",
        "    return [int(precio_actual), tendencia,porcentaje]\n"
      ]
    },
    {
      "cell_type": "code",
      "source": [
        "extraer_tendencias()"
      ],
      "metadata": {
        "colab": {
          "base_uri": "https://localhost:8080/"
        },
        "id": "HE72F1d74zg_",
        "outputId": "846284ea-cef1-4920-ef7d-dc0a010f471a"
      },
      "execution_count": 19,
      "outputs": [
        {
          "output_type": "execute_result",
          "data": {
            "text/plain": [
              "[26905, 'Alta', '7.06%']"
            ]
          },
          "metadata": {},
          "execution_count": 19
        }
      ]
    },
    {
      "cell_type": "markdown",
      "metadata": {
        "id": "JGPblTPob0v6"
      },
      "source": [
        "#Tomar decisiones"
      ]
    },
    {
      "cell_type": "code",
      "execution_count": 34,
      "metadata": {
        "id": "tg16MO0fcHwa"
      },
      "outputs": [],
      "source": [
        "\n",
        "def tomar_decisiones():\n",
        "    global symbol, period, interval, df_bitcoin, precio_actual, tendencia, media,rsi,macd,macdsignal,ma50,ma200\n",
        "    \n",
        "    df=between_quartiles()\n",
        "\n",
        "    # Último RSI\n",
        "    rsi=df['rsi'][-1]\n",
        "    # Últimol MACD\n",
        "    macd=df['macd'][-1]\n",
        "    # Último MACD-SIGNAL\n",
        "    macdsignal = df['macd_signal'][-1]\n",
        "\n",
        "    # Calcular la media móvil de 50 días y 200 días\n",
        "    df[\"ma50\"] = df[\"Close\"].rolling(50).mean()\n",
        "    df[\"ma200\"] = df[\"Close\"].rolling(200).mean()\n",
        "\n",
        "    ma50=df[\"ma50\"].iloc[-1]\n",
        "    ma200=df[\"ma200\"].iloc[-1]\n",
        "\n",
        "    #Precio actual\n",
        "    precio = extraer_tendencias()[0]\n",
        "    #Tendencia actual\n",
        "    tendencia=extraer_tendencias()[1]\n",
        "    #media\n",
        "    media = df['Close'].mean()\n",
        "    \n",
        "    # Aplicar el criterio de decisión\n",
        "\n",
        "    if precio > media and rsi > 50 and macd > macdsignal and precio > ma50 and precio > ma200:\n",
        "        decision = \"Comprar\"\n",
        "        explicacion =\"Explicación: El precio actual está por encima de la media, el RSI es alto, el MACD está por encima de su señal,\\n el precio actual está por encima de la MA50 y la MA200, lo que indica una tendencia alcista fuerte y una buena oportunidad para comprar.\"\n",
        "    elif precio < media and rsi < 50 and macd < macdsignal and precio < ma50 and precio < ma200:\n",
        "        decision = \"Vender\"\n",
        "        explicacion =\"Explicación: El precio actual está por debajo de la media, el RSI es bajo, el MACD está por debajo de su señal,\\n el precio actual está por debajo de la MA50 y la MA200, lo que indica una tendencia bajista fuerte y una buena oportunidad para vender.\"\n",
        "    else:\n",
        "        decision = \"Mantener\"\n",
        "        if tendencia == \"Alta\":\n",
        "            if precio > media and precio > ma50 and precio > ma200:\n",
        "                explicacion =\"Explicación: El precio actual está por encima de la media, la MA50 y la MA200, lo que indica una tendencia alcista.\\n Aunque el RSI y el MACD no son muy altos, se recomienda mantener ya que la tendencia general es positiva y puede haber potencial para ganancias adicionales.\"\n",
        "            elif precio < media and precio < ma50 and precio < ma200:\n",
        "                explicacion =\"Explicación: El precio actual está por debajo de la media, la MA50 y la MA200, lo que indica una tendencia bajista.\\n Aunque el RSI y el MACD no son muy bajos, se recomienda mantener ya que la tendencia general es negativa y puede haber potencial para disminución adicional en las pérdidas.\"\n",
        "            else:\n",
        "                explicacion =\"Explicación: Aunque la tendencia general es alcista, el precio actual no está lo suficientemente por encima de la media,\\n la MA50 y la MA200 para justificar una compra adicional. Sin embargo, tampoco hay señales fuertes de venta, por lo que se recomienda mantener y seguir observando.\"\n",
        "        elif tendencia == \"Baja\":\n",
        "            if precio < media and precio < ma50 and precio < ma200:\n",
        "                explicacion =\"Explicación: El precio actual está por debajo de la media, la MA50 y la MA200, lo que indica una tendencia bajista.\\n Aunque el RSI y el MACD no son muy bajos, se recomienda mantener ya que la tendencia general es negativa y puede haber potencial para disminución adicional en las pérdidas.\"\n",
        "            elif precio > media and precio > ma50 and precio > ma200:\n",
        "                explicacion =\"Explicación: El precio actual está por encima de la media, la MA50 y la MA200, lo que indica una tendencia alcista.\\n Aunque el RSI y el MACD no son muy altos, se recomienda mantener ya que la tendencia general es positiva y puede haber potencial para disminución adicional en las pérdidas.\"\n",
        "        \n",
        "    return [decision,explicacion]\n"
      ]
    },
    {
      "cell_type": "code",
      "source": [
        "def print_algoritmo_decision():\n",
        "    print('Decisión:', tomar_decisiones()[0]),print(tomar_decisiones()[1]),print('Tendencia:',tendencia),print('Media:',int(media)),print('Precio:',int(precio_actual)),print('RSI:',rsi),\n",
        "    print('MACD:',macd),print('M-Signal:',macdsignal), print('ma50:',ma50), print('ma200:',ma200)\n",
        "    return"
      ],
      "metadata": {
        "id": "j6x0Uk4KWEJZ"
      },
      "execution_count": 41,
      "outputs": []
    },
    {
      "cell_type": "code",
      "source": [
        "tomar_decisiones()"
      ],
      "metadata": {
        "colab": {
          "base_uri": "https://localhost:8080/"
        },
        "id": "UjhmvqvW_lwQ",
        "outputId": "b5365a5f-1d4a-4a64-b1a1-27730858762a"
      },
      "execution_count": 42,
      "outputs": [
        {
          "output_type": "stream",
          "name": "stdout",
          "text": [
            "\r[*********************100%***********************]  1 of 1 completed\n"
          ]
        },
        {
          "output_type": "execute_result",
          "data": {
            "text/plain": [
              "['Mantener',\n",
              " 'Explicación: El precio actual está por debajo de la media, la MA50 y la MA200, lo que indica una tendencia bajista.\\n Aunque el RSI y el MACD no son muy bajos, se recomienda mantener ya que la tendencia general es negativa y puede haber potencial para disminución adicional en las pérdidas.']"
            ]
          },
          "metadata": {},
          "execution_count": 42
        }
      ]
    },
    {
      "cell_type": "code",
      "source": [
        "print_algoritmo_decision()"
      ],
      "metadata": {
        "colab": {
          "base_uri": "https://localhost:8080/"
        },
        "id": "p80t4cc6Wlwo",
        "outputId": "114aa0c2-1024-4c72-f652-673f292f68ee"
      },
      "execution_count": 43,
      "outputs": [
        {
          "output_type": "stream",
          "name": "stdout",
          "text": [
            "\r[*********************100%***********************]  1 of 1 completed\n",
            "Decisión: Mantener\n",
            "[*********************100%***********************]  1 of 1 completed\n",
            "Explicación: El precio actual está por debajo de la media, la MA50 y la MA200, lo que indica una tendencia bajista.\n",
            " Aunque el RSI y el MACD no son muy bajos, se recomienda mantener ya que la tendencia general es negativa y puede haber potencial para disminución adicional en las pérdidas.\n",
            "Tendencia: Alta\n",
            "Media: 27578\n",
            "Precio: 26816\n",
            "RSI: 78.0\n",
            "MACD: 45.0\n",
            "M-Signal: 27.0\n",
            "ma50: 27192.92\n",
            "ma200: 27458.715\n"
          ]
        }
      ]
    },
    {
      "cell_type": "markdown",
      "source": [
        "#Gráfico de lineas para ver la tendencia"
      ],
      "metadata": {
        "id": "ixypV2aooAy5"
      }
    },
    {
      "cell_type": "code",
      "execution_count": 24,
      "metadata": {
        "id": "_VPaOHA4iqYu"
      },
      "outputs": [],
      "source": [
        "import matplotlib.pyplot as plt\n",
        "\n",
        "def graficar():\n",
        "\n",
        "    df= get_df_bitcoin()\n",
        "    # crear la figura y los ejes\n",
        "    fig, ax = plt.subplots(figsize=(16,5))\n",
        "\n",
        "    # trazar los datos en los ejes\n",
        "    ax.plot(df.index, df[\"Close\"])\n",
        "\n",
        "    # trazar una línea que indique el valor medio\n",
        "    mean_price = df[\"Close\"].mean()\n",
        "    ax.axhline(mean_price, color=\"red\", linestyle=\"--\")\n",
        "\n",
        "    # personalizar la apariencia del gráfico\n",
        "    ax.set_xlabel(\"Fecha\")\n",
        "    ax.set_ylabel(\"Precio\")\n",
        "    ax.set_title(\"Evolución del Bitcoin a lo largo del tiempo\")\n",
        "\n",
        "    # mostrar la decisión del algoritmo_decision\n",
        "    decision = tomar_decisiones()[0]\n",
        "    info = tomar_decisiones()[1]\n",
        "\n",
        "    # Mostrar decision en grafico\n",
        "    ax.text(0.8, 0.95, f\"Decisión: {decision}\", transform=ax.transAxes, fontsize=20, color='red',\n",
        "            verticalalignment='top',horizontalalignment='center', bbox=dict(boxstyle='round', facecolor='yellow', alpha=0.5))\n",
        "    # ax.text(0.7, 0.8, f\"Decisión: {info}\", transform=ax.transAxes, fontsize=10, color='black',\n",
        "    #         verticalalignment='top',horizontalalignment='center', bbox=dict(boxstyle='round', facecolor='yellow', alpha=0.5))\n",
        "\n",
        "    # mostrar el gráfico\n",
        "    # plt.show()\n",
        "    return plt.show()"
      ]
    },
    {
      "cell_type": "code",
      "source": [
        "# graficar()"
      ],
      "metadata": {
        "id": "ddhXkQbpoS3m"
      },
      "execution_count": 25,
      "outputs": []
    },
    {
      "cell_type": "code",
      "source": [
        "def grafica_tendencias():\n",
        "    #Data Frame\n",
        "    data = get_df_bitcoin_limpio()\n",
        "\n",
        "    #Calcular media:\n",
        "    mean_price = data[\"Close\"].mean()\n",
        "\n",
        "    #Desicion:\n",
        "    decision=tomar_decisiones()[0]\n",
        "\n",
        "    # Calcular el RSI\n",
        "    rsi = data['rsi'][-1]\n",
        "\n",
        "    # Calcular el MACD\n",
        "    macd = data['macd'][-1]\n",
        "\n",
        "    # Calcular el MACD-SIGNAL\n",
        "    macdsignal = data['macd_signal'][-1]\n",
        "\n",
        "    # Calcular indicadores técnicos\n",
        "    data[\"MA50\"] = data[\"Close\"].rolling(window=50).mean()\n",
        "    data[\"MA200\"] = data[\"Close\"].rolling(window=200).mean()\n",
        "    data[\"RSI\"] = data['rsi']\n",
        "    data[\"MACD\"]= data['macd']\n",
        "    data[\"M-Signal\"] =data['macd_signal']\n",
        "\n",
        "    # Graficar los precios con las medias móviles\n",
        "    fig, ax = plt.subplots(figsize=(12,6))\n",
        "    data[\"Close\"].plot(ax=ax, color=\"black\", label=\"Precio\", linewidth=0.7)\n",
        "    data[\"MA50\"].plot(ax=ax, color=\"blue\", label=\"Media Móvil de 50 días\", linewidth=0.5)\n",
        "    data[\"MA200\"].plot(ax=ax, color=\"red\", label=\"Media Móvil de 200 días\", linewidth=0.5)\n",
        "    ax.axhline(y=mean_price, color=\"green\", linestyle=\"-\",label='Precio Medio', linewidth=0.5)\n",
        "    ax.legend(loc=\"best\",fontsize=9)\n",
        "    ax.set_xlabel(\"Fecha\")\n",
        "    ax.set_ylabel(\"Precio (USD)\")\n",
        "    ax.set_title(\"Bitcoin Precios con Medias Móviles\")\n",
        "\n",
        "    #Texto explicativo de la grafica:\n",
        "    text_price_medias_01= \"Interpretación: Esta gráfica muestra el precio histórico de Bitcoin en color gris, junto con las medias móviles\"\n",
        "    text_price_medias_02=\"de 50 y 200 días en azul y rojo, respectivamente. \"\n",
        "    text_price_medias_03= \"La media móvil de 50 días se utiliza comúnmente como un indicador de tendencia a corto plazo, mientras que la media\"\n",
        "    text_price_medias_04=\"móvil de 200 días se utiliza como un indicador de tendencia a largo plazo.\"\n",
        "\n",
        "    # Mostrar decision en grafico\n",
        "    ax.text(0.5, 0.95, f\"Decisión: {decision}\", transform=ax.transAxes, fontsize=20, color='red', verticalalignment='top',horizontalalignment='center', bbox=dict(boxstyle='round', facecolor='yellow', alpha=0.5))\n",
        "\n",
        "    ax.text(0, -0.2,text_price_medias_01, transform=ax.transAxes, fontsize=10, ha=\"left\")\n",
        "    ax.text(0, -0.25,text_price_medias_02 , transform=ax.transAxes, fontsize=10, ha=\"left\")\n",
        "    ax.text(0, -0.3,text_price_medias_03, transform=ax.transAxes, fontsize=10, ha=\"left\")\n",
        "    ax.text(0, -0.35,text_price_medias_04 , transform=ax.transAxes, fontsize=10, ha=\"left\")\n",
        "\n",
        "    # Graficar el RSI\n",
        "\n",
        "    fig, ax = plt.subplots(figsize=(12,6))\n",
        "    data[\"RSI\"].plot(ax=ax, color=\"purple\", label='Índice de Fuerza Relativa',linewidth=0.7)\n",
        "    ax.axhline(y=70, color=\"green\", linestyle=\"--\",label='Nivel de Sobrecompra: 70',linewidth=0.9)\n",
        "    ax.axhline(y=30, color=\"red\", linestyle=\"--\",label='Nivel de Sobreventa: 30',linewidth=0.9)\n",
        "    ax.legend(loc=\"best\",fontsize=9)\n",
        "    ax.set_xlabel(\"Fecha\")\n",
        "    ax.set_ylabel(\"RSI\")\n",
        "    ax.set_title(\"RSI\")\n",
        "\n",
        "    #Texto explicativo de RSI:\n",
        "    text_RSI_01= \"Interpretación: Esta gráfica muestra el Indice de Fuerza Relativa (RSI) de Bitcoin en color morado. Los valores del RSI\"\n",
        "    text_RSI_02= \"oscilan entre 0 y 100, y los niveles de sobrecompra y sobreventa se definen típicamente en 70 y 30, respectivamente.\"\n",
        "    text_RSI_03= \"Cuando el RSI se acerca a los 30, se considera que el precio de Bitcoin está sobrevendido y podría aumentar en el futuro.\"\n",
        "    text_RSI_04= \"Cuando el RSI se acerca a los 70, se considera que el precio de Bitcoin está sobrecomprado y podría disminuir en el futuro.\"\n",
        "\n",
        "    ax.text(0, -0.20,text_RSI_01, transform=ax.transAxes, fontsize=10, ha=\"left\")\n",
        "    ax.text(0, -0.25,text_RSI_02 , transform=ax.transAxes, fontsize=10, ha=\"left\")\n",
        "    ax.text(0, -0.3,text_RSI_03, transform=ax.transAxes, fontsize=10, ha=\"left\")\n",
        "    ax.text(0, -0.35,text_RSI_04 , transform=ax.transAxes, fontsize=10, ha=\"left\")\n",
        "\n",
        "    # Graficar el MACD y la MACD-Señal\n",
        "    fig, ax = plt.subplots(figsize=(12,6))\n",
        "\n",
        "    data[\"MACD\"].plot(ax=ax, color=\"blue\", label=\"MACD: Diferencia entre MA de 12 y 26 días\",linewidth=0.7)\n",
        "    data[\"M-Signal\"].plot(ax=ax, color=\"red\", label=\"M-Signal: : MA de 9 días del MACD\",linewidth=0.7)\n",
        "    ax.axhline(y=0, color=\"black\", linestyle=\"--\",linewidth=0.7)\n",
        "    ax.legend(loc=\"best\",fontsize=9)\n",
        "    ax.set_xlabel(\"Fecha\")\n",
        "    ax.set_ylabel(\"MACD\")\n",
        "    ax.set_title(\"MACD y Señal\")\n",
        "\n",
        "    #Texto explicativo de MACD y la MACD-Señal:\n",
        "    text_MACD_01= \"El gráfico muestra el indicador MACD y su señal para el precio de Bitcoin. El MACD es un indicador que se utiliza para\"\n",
        "    text_MACD_02= \"identificar cambios en la tendencia y la fuerza de los movimientos de los precios. Se calcula a partir de la diferencia\"\n",
        "    text_MACD_03= \"entre dos promedios móviles exponenciales de diferentes periodos. La línea de señal es una media móvil exponencial del MACD.\"\n",
        "    text_MACD_04= \"Cuando la línea del MACD cruza por encima de la línea de señal, es una señal alcista, y cuando cruza por debajo, es una señal bajista.\"\n",
        "\n",
        "    # Agregar cuadro de texto debajo del gráfico\n",
        "    ax.text(0, -0.2,text_MACD_01, transform=ax.transAxes, fontsize=10, ha=\"left\", color='black')\n",
        "    ax.text(0, -0.25,text_MACD_02, transform=ax.transAxes, fontsize=10, ha=\"left\", color='black')\n",
        "    ax.text(0, -0.3,text_MACD_03, transform=ax.transAxes, fontsize=10, ha=\"left\", color='black')\n",
        "    ax.text(0, -0.35,text_MACD_04 , transform=ax.transAxes, fontsize=10, ha=\"left\", color='black')\n",
        "\n",
        "    # Mostrar la gráfica\n",
        "    return plt.show()\n"
      ],
      "metadata": {
        "id": "G6Gr5zt0kAyM"
      },
      "execution_count": 45,
      "outputs": []
    },
    {
      "cell_type": "markdown",
      "source": [
        "#Automatizar:"
      ],
      "metadata": {
        "id": "XSOmo3RQT5VX"
      }
    },
    {
      "cell_type": "code",
      "source": [
        "def automatizar():\n",
        "      contador=0\n",
        "      while True:\n",
        "          contador+=1\n",
        "          get_df_bitcoin()\n",
        "          get_df_bitcoin_limpio()\n",
        "          between_quartiles()\n",
        "          extraer_tendencias()\n",
        "          tomar_decisiones()\n",
        "          \n",
        "          tz = pytz.timezone('America/Argentina/Buenos_Aires')\n",
        "          now = datetime.datetime.now(tz)\n",
        "          print(\"Hora de verificación:\", now.strftime(\"%H:%M:%S\"))\n",
        "          print(\"Ejecuciones: \" ,contador,\" \\n\")\n",
        "          print(\"-----------------------------------\\n\")\n",
        "          print_algoritmo_decision()\n",
        "          print(\"-----------------------------------\\n\")\n",
        "          grafica_tendencias()\n",
        "          clear_output(wait=True)\n",
        "\n",
        "          time.sleep(300) #ciclo cada 300 segundos\n",
        "      return"
      ],
      "metadata": {
        "id": "ipKjhK8MObgw"
      },
      "execution_count": 46,
      "outputs": []
    },
    {
      "cell_type": "code",
      "source": [
        "automatizar()"
      ],
      "metadata": {
        "id": "i6FYRi_2ZrwS",
        "colab": {
          "base_uri": "https://localhost:8080/",
          "height": 269
        },
        "outputId": "576640bf-3fc4-424c-b937-e71f549bf3d7"
      },
      "execution_count": 47,
      "outputs": [
        {
          "output_type": "error",
          "ename": "KeyboardInterrupt",
          "evalue": "ignored",
          "traceback": [
            "\u001b[0;31m---------------------------------------------------------------------------\u001b[0m",
            "\u001b[0;31mKeyboardInterrupt\u001b[0m                         Traceback (most recent call last)",
            "\u001b[0;32m<ipython-input-47-7690ee3c9c62>\u001b[0m in \u001b[0;36m<cell line: 1>\u001b[0;34m()\u001b[0m\n\u001b[0;32m----> 1\u001b[0;31m \u001b[0mautomatizar\u001b[0m\u001b[0;34m(\u001b[0m\u001b[0;34m)\u001b[0m\u001b[0;34m\u001b[0m\u001b[0;34m\u001b[0m\u001b[0m\n\u001b[0m",
            "\u001b[0;32m<ipython-input-46-933b88f06028>\u001b[0m in \u001b[0;36mautomatizar\u001b[0;34m()\u001b[0m\n\u001b[1;32m     19\u001b[0m           \u001b[0mclear_output\u001b[0m\u001b[0;34m(\u001b[0m\u001b[0mwait\u001b[0m\u001b[0;34m=\u001b[0m\u001b[0;32mTrue\u001b[0m\u001b[0;34m)\u001b[0m\u001b[0;34m\u001b[0m\u001b[0;34m\u001b[0m\u001b[0m\n\u001b[1;32m     20\u001b[0m \u001b[0;34m\u001b[0m\u001b[0m\n\u001b[0;32m---> 21\u001b[0;31m           \u001b[0mtime\u001b[0m\u001b[0;34m.\u001b[0m\u001b[0msleep\u001b[0m\u001b[0;34m(\u001b[0m\u001b[0;36m300\u001b[0m\u001b[0;34m)\u001b[0m \u001b[0;31m#ciclo cada 300 segundos\u001b[0m\u001b[0;34m\u001b[0m\u001b[0;34m\u001b[0m\u001b[0m\n\u001b[0m\u001b[1;32m     22\u001b[0m       \u001b[0;32mreturn\u001b[0m\u001b[0;34m\u001b[0m\u001b[0;34m\u001b[0m\u001b[0m\n",
            "\u001b[0;31mKeyboardInterrupt\u001b[0m: "
          ]
        }
      ]
    }
  ],
  "metadata": {
    "colab": {
      "provenance": [],
      "mount_file_id": "1PYk-cGua9umWOF78uEl7dQKa65zCoXq6",
      "authorship_tag": "ABX9TyNDLIML81VyEJ9o26Q2Xpho",
      "include_colab_link": true
    },
    "kernelspec": {
      "display_name": "Python 3",
      "name": "python3"
    },
    "language_info": {
      "name": "python"
    }
  },
  "nbformat": 4,
  "nbformat_minor": 0
}